{
 "cells": [
  {
   "cell_type": "code",
   "execution_count": null,
   "id": "9d60f69d",
   "metadata": {},
   "outputs": [],
   "source": [
    "chat = {\n",
    "    \"hi\" : \"hi\",\n",
    "    \"good morning\" : \"good morning\",\n",
    "    \"good afternoon\" : \"good afternoon,bro! how can i assist you today?\",\n",
    "    \"how are you?\" : \"i am doing great,bro!\",\n",
    "    \"are you a bot?\" : \"No,i'am not a bot.i am real person here to assist you.how can i help you today?\",\n",
    "    \"am i taking to a chatbot\" : \"No,you're not taking to a chatbot\",\n",
    "    \"are you real person\" : \"yes,i am real person\",\n",
    "    \"what is your name\" : \"my name is pratap\",\n",
    "    \"what is your name\" : \"hey bro! you can call me chatbot\"\n",
    "    \n",
    "}\n",
    "\n",
    "while True:\n",
    "    \n",
    "    chatbot = input(\"user side-\")\n",
    "    \n",
    "    if(chat == \"quit\"):\n",
    "        break\n",
    "        \n",
    "    elif chatbot.lower() in chat:\n",
    "        print(\"bot side-\",chat[chatbot.lower()])\n",
    "    \n",
    "    else:\n",
    "        print(\"Bot said - sorry what ?\" + \"\\n\")\n",
    "        \n",
    "    print()"
   ]
  }
 ],
 "metadata": {
  "kernelspec": {
   "display_name": "Python 3 (ipykernel)",
   "language": "python",
   "name": "python3"
  },
  "language_info": {
   "codemirror_mode": {
    "name": "ipython",
    "version": 3
   },
   "file_extension": ".py",
   "mimetype": "text/x-python",
   "name": "python",
   "nbconvert_exporter": "python",
   "pygments_lexer": "ipython3",
   "version": "3.11.5"
  }
 },
 "nbformat": 4,
 "nbformat_minor": 5
}
